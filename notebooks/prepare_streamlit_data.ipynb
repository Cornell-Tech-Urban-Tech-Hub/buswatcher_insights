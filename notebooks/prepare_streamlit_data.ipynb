{
 "cells": [
  {
   "cell_type": "code",
   "execution_count": 11,
   "metadata": {},
   "outputs": [],
   "source": [
    "import pandas as pd\n",
    "from notebook_utils import optimize_dataframe"
   ]
  },
  {
   "cell_type": "code",
   "execution_count": 15,
   "metadata": {},
   "outputs": [
    {
     "name": "stdout",
     "output_type": "stream",
     "text": [
      "Failed to load Bx12 in Processed\n",
      "Failed to load M15 in Processed\n"
     ]
    }
   ],
   "source": [
    "for folder in [\"Raw\", \"Processed\"]:\n",
    "    for bus_route in [\"B46\", \"Bx12\", \"M15\"]:\n",
    "        try:\n",
    "            df = pd.read_csv(f\"../data/Bus/Segment Data - {folder}/{bus_route}_2021-10-18.csv\")\n",
    "            df = optimize_dataframe(df)\n",
    "            df.to_pickle(f\"../data/streamlit/{folder.lower()}/{bus_route}_2021-10-18.pickle\")\n",
    "        except Exception as e:\n",
    "            print(f\"Failed to load {bus_route} in {folder}\")"
   ]
  }
 ],
 "metadata": {
  "interpreter": {
   "hash": "fe181c17152021195bf6b0c48874f6d40ad5617ed3cd6715741f061e749c707c"
  },
  "kernelspec": {
   "display_name": "Python 3.8.12 64-bit ('bus-prediction': conda)",
   "language": "python",
   "name": "python3"
  },
  "language_info": {
   "codemirror_mode": {
    "name": "ipython",
    "version": 3
   },
   "file_extension": ".py",
   "mimetype": "text/x-python",
   "name": "python",
   "nbconvert_exporter": "python",
   "pygments_lexer": "ipython3",
   "version": "3.8.12"
  },
  "orig_nbformat": 4
 },
 "nbformat": 4,
 "nbformat_minor": 2
}
